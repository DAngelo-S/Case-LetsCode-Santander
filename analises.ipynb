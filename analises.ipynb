{
 "cells": [
  {
   "cell_type": "code",
   "execution_count": 2,
   "id": "e45e7851",
   "metadata": {},
   "outputs": [],
   "source": [
    "# importando bibliotecas\n",
    "\n",
    "import pandas as pd # Trabalhar com tabelas"
   ]
  },
  {
   "cell_type": "markdown",
   "id": "e5a133ba",
   "metadata": {},
   "source": [
    "# Obtendo os Dados sobre Pastas de Dente"
   ]
  },
  {
   "cell_type": "code",
   "execution_count": 60,
   "id": "a6abaafb",
   "metadata": {},
   "outputs": [],
   "source": [
    "# Lê os dados\n",
    "\n",
    "top_toothpaste_data = pd.read_csv('./Data/Top-Toothpaste-Amazon.csv')"
   ]
  },
  {
   "cell_type": "code",
   "execution_count": 61,
   "id": "cff025b8",
   "metadata": {},
   "outputs": [
    {
     "name": "stdout",
     "output_type": "stream",
     "text": [
      "   Classificação         Marca                             Produto  Peso (g)  \\\n",
      "0              1       Colgate                 Total 12 Clean Mint        90   \n",
      "1              2       Colgate          Tripla Ação Menta Original       180   \n",
      "2              3  Boni Natural  Menta e Melaleuca Vegano e Natural        90   \n",
      "3              4       Colgate       Luminous White Brilliant Mint        50   \n",
      "4              5  Boni Natural          Carvão Ativado Branqueador        90   \n",
      "5              6       Colgate       Luminous White Carvão Ativado        70   \n",
      "6              7       Colgate        Natural Extracts Purificante        90   \n",
      "7              8         Elmex                           Sensitive       110   \n",
      "8              9        Oral-B   3D White Mineral Clean Fresh Mint       102   \n",
      "9             10       Colgate       Luminous White Carvão Ativado       140   \n",
      "\n",
      "   Preço (reais)  \n",
      "0           4.12  \n",
      "1           3.91  \n",
      "2          11.24  \n",
      "3           4.04  \n",
      "4          12.23  \n",
      "5           5.49  \n",
      "6           8.15  \n",
      "7          18.55  \n",
      "8          12.99  \n",
      "9           9.54  \n"
     ]
    }
   ],
   "source": [
    "# Converte os dados de preço para um tipo numérico\n",
    "\n",
    "top_toothpaste_data = top_toothpaste_data.replace(to_replace=',', value='.', regex=True)\n",
    "top_toothpaste_data['Preço (reais)'] = pd.to_numeric(top_toothpaste_data['Preço (reais)'])\n",
    "\n",
    "# Verifica os dados\n",
    "\n",
    "print(top_toothpaste_data)"
   ]
  },
  {
   "cell_type": "code",
   "execution_count": 62,
   "id": "6352a706",
   "metadata": {},
   "outputs": [
    {
     "name": "stdout",
     "output_type": "stream",
     "text": [
      "0     90\n",
      "1    180\n",
      "2     90\n",
      "3     50\n",
      "4     90\n",
      "5     70\n",
      "6     90\n",
      "7    110\n",
      "8    102\n",
      "9    140\n",
      "Name: Peso (g), dtype: int64\n"
     ]
    }
   ],
   "source": [
    "mass_toothpaste = top_toothpaste_data['Peso (g)'] # Seleciono o \"peso\"(massa)\n",
    "\n",
    "print(mass_toothpaste) "
   ]
  },
  {
   "cell_type": "code",
   "execution_count": 63,
   "id": "57d89a4c",
   "metadata": {},
   "outputs": [
    {
     "name": "stdout",
     "output_type": "stream",
     "text": [
      "0     4.12\n",
      "1     3.91\n",
      "2    11.24\n",
      "3     4.04\n",
      "4    12.23\n",
      "5     5.49\n",
      "6     8.15\n",
      "7    18.55\n",
      "8    12.99\n",
      "9     9.54\n",
      "Name: Preço (reais), dtype: float64\n"
     ]
    }
   ],
   "source": [
    "price_toothpaste = top_toothpaste_data['Preço (reais)'] # Seleciono o preço\n",
    "\n",
    "print(price_toothpaste)"
   ]
  },
  {
   "cell_type": "markdown",
   "id": "2a578bad",
   "metadata": {},
   "source": [
    "## Média e intervalo de quantidade de pasta por tudo:"
   ]
  },
  {
   "cell_type": "code",
   "execution_count": 64,
   "id": "f54abf0d",
   "metadata": {},
   "outputs": [
    {
     "name": "stdout",
     "output_type": "stream",
     "text": [
      "média: 101.2\n",
      "intervalo: [50, 180]\n"
     ]
    }
   ],
   "source": [
    "print(\"média:\", mass_toothpaste.mean())\n",
    "\n",
    "print(\"intervalo: [{}, {}]\".format(mass_toothpaste.min(), mass_toothpaste.max()))"
   ]
  },
  {
   "cell_type": "markdown",
   "id": "8fa1e4a7",
   "metadata": {},
   "source": [
    "## Média e intervalo de preço por tubo:"
   ]
  },
  {
   "cell_type": "code",
   "execution_count": 65,
   "id": "94fdf441",
   "metadata": {},
   "outputs": [
    {
     "name": "stdout",
     "output_type": "stream",
     "text": [
      "média: 9.026\n",
      "intervalo: [3.91, 18.55]\n"
     ]
    }
   ],
   "source": [
    "print(\"média:\", price_toothpaste.mean())\n",
    "\n",
    "print(\"intervalo: [{}, {}]\".format(price_toothpaste.min(), price_toothpaste.max()))"
   ]
  },
  {
   "cell_type": "markdown",
   "id": "68254a9e",
   "metadata": {},
   "source": [
    "# Recomendações"
   ]
  },
  {
   "cell_type": "code",
   "execution_count": 72,
   "id": "c09dd3e1",
   "metadata": {},
   "outputs": [],
   "source": [
    "toothpaste_per_brush = 0.3 # em gramas\n",
    "\n",
    "brushes_per_day = [2, 3]\n",
    "\n",
    "period = 30 # 1 mes"
   ]
  },
  {
   "cell_type": "markdown",
   "id": "0b549c7c",
   "metadata": {},
   "source": [
    "# Dados do IBGE"
   ]
  },
  {
   "cell_type": "code",
   "execution_count": 67,
   "id": "32b7e1b1",
   "metadata": {},
   "outputs": [],
   "source": [
    "population_brushing_teeth = [0.933, 0.939] # porcentagem\n",
    "\n",
    "total_population = 216360000 # aproximadamente"
   ]
  },
  {
   "cell_type": "markdown",
   "id": "90369d0a",
   "metadata": {},
   "source": [
    "# Estimativa"
   ]
  },
  {
   "cell_type": "markdown",
   "id": "53e23186",
   "metadata": {},
   "source": [
    "Levando em consideração a verdade matemática citada a baixo:   \n",
    "\n",
    "Se:   \n",
    "    a < b e x > 0,    \n",
    "    \n",
    "    \n",
    "temos:   \n",
    "    ax < bx; e   \n",
    "    x/b < x/a   \n",
    "      \n",
    "Vamos estimar o intervalo correspondente ao uso mensal de tubos cremes dental."
   ]
  },
  {
   "cell_type": "code",
   "execution_count": 54,
   "id": "3ab959d7",
   "metadata": {},
   "outputs": [],
   "source": [
    "def mean(nums):\n",
    "    return sum(nums)/len(nums)"
   ]
  },
  {
   "cell_type": "code",
   "execution_count": 74,
   "id": "082d2370",
   "metadata": {},
   "outputs": [
    {
     "name": "stdout",
     "output_type": "stream",
     "text": [
      "Intervalo de uso mensal de tubos de creme dental no BR (por mês): [20186388.0, 109707501.6]\n",
      "Media calculada: 45025114.6\n"
     ]
    }
   ],
   "source": [
    "toothpastes_per_month = [\n",
    "    round(toothpaste_per_brush * min(brushes_per_day) * period * total_population * min(population_brushing_teeth) / mass_toothpaste.max(), 1),\n",
    "    round(toothpaste_per_brush * max(brushes_per_day) * period * total_population * max(population_brushing_teeth) / mass_toothpaste.min(), 1)\n",
    "]\n",
    "\n",
    "print(\"Intervalo de uso mensal de tubos de creme dental no BR (por mês):\", toothpastes_per_month)\n",
    "\n",
    "toothpastes_avg = round(toothpaste_per_brush * mean(brushes_per_day) * period * total_population * mean(population_brushing_tooth) / mass_toothpaste.mean(), 1)\n",
    "\n",
    "print(\"Media calculada:\", toothpastes_avg)"
   ]
  },
  {
   "cell_type": "markdown",
   "id": "a04cf75f",
   "metadata": {},
   "source": [
    "O problema com a estimativa calculada, é que as diversas matérias e alertas de especialistas em odontologia disponíveis online, indicam que o brasileiro usa mais pasta do que o recomendado por escovação.\n",
    "\n",
    "Considerando uma pesquisa feita em 2002 pela empresa A. C. Nielsen, o brasileiro usa, por habitante, 400g de pasta em média no ano! Como esta pesquisa já nos informa o valor total de pasta utilizada por todos os brasileiros em um ano divido pelo número de habitantes, ou seja, a média, não precisaremos usar as porcentagens fornecidas pelo IBGE para calcular esta estimativa."
   ]
  },
  {
   "cell_type": "code",
   "execution_count": 76,
   "id": "dc02ff6b",
   "metadata": {},
   "outputs": [
    {
     "name": "stdout",
     "output_type": "stream",
     "text": [
      "O novo intervalo de uso mensal de tubos de creme dental no BR (por mês): [40066666.7, 144240000.0]\n",
      "Nova media calculada: 71264822.1\n"
     ]
    }
   ],
   "source": [
    "toothpastes_per_month = [\n",
    "    round(400 * total_population / (12 * mass_toothpaste.max()), 1),\n",
    "    round(400 * total_population / (12 * mass_toothpaste.min()), 1)\n",
    "]\n",
    "\n",
    "print(\"O novo intervalo de uso mensal de tubos de creme dental no BR (por mês):\", toothpastes_per_month)\n",
    "\n",
    "toothpastes_avg = round(400 * total_population / (12 * mass_toothpaste.mean()), 1)\n",
    "\n",
    "print(\"Nova media calculada:\", toothpastes_avg)"
   ]
  },
  {
   "cell_type": "code",
   "execution_count": 81,
   "id": "3c4694d8",
   "metadata": {},
   "outputs": [
    {
     "name": "stdout",
     "output_type": "stream",
     "text": [
      "Gastos:\n",
      "\n",
      "Intervalo de gasto: [156660666.8, 563978400.0]\n",
      "Gasto médio: 643236284.3\n"
     ]
    }
   ],
   "source": [
    "print(\"Gastos:\\n\")\n",
    "\n",
    "spent_per_month = [\n",
    "    round(min(toothpastes_per_month) * price_toothpaste.min(), 1),\n",
    "    round(max(toothpastes_per_month) * price_toothpaste.min(), 1)\n",
    "]\n",
    "\n",
    "spent_avg = round(toothpastes_avg * price_toothpaste.mean(), 1)\n",
    "\n",
    "print(\"Intervalo de gasto:\", spent_per_month)\n",
    "print(\"Gasto médio:\", spent_avg)"
   ]
  }
 ],
 "metadata": {
  "kernelspec": {
   "display_name": "Python 3 (ipykernel)",
   "language": "python",
   "name": "python3"
  },
  "language_info": {
   "codemirror_mode": {
    "name": "ipython",
    "version": 3
   },
   "file_extension": ".py",
   "mimetype": "text/x-python",
   "name": "python",
   "nbconvert_exporter": "python",
   "pygments_lexer": "ipython3",
   "version": "3.8.10"
  }
 },
 "nbformat": 4,
 "nbformat_minor": 5
}
